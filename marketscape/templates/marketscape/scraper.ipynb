{
 "cells": [
  {
   "cell_type": "code",
   "execution_count": 198,
   "metadata": {},
   "outputs": [],
   "source": [
    "import requests\n",
    "import regex as re\n",
    "from bs4 import BeautifulSoup\n",
    "\n",
    "headers = {\n",
    "    'user agent' : 'Mozilla/5.0 (Windows NT 10.0; Win64; x64) AppleWebKit/537.36 (KHTML, like Gecko) Chrome/101.0.4951.34 Safari/537.36'    \n",
    "}"
   ]
  },
  {
   "cell_type": "code",
   "execution_count": 254,
   "metadata": {},
   "outputs": [],
   "source": [
    "url='https://www.rightmove.co.uk/property-for-sale/find.html?searchType=SALE&locationIdentifier=REGION%5E1403&insId=1&radius=0.0&minPrice=&maxPrice=&minBedrooms=&maxBedrooms=&displayPropertyType=&maxDaysSinceAdded=&_includeSSTC=on&sortByPriceDescending=&primaryDisplayPropertyType=&secondaryDisplayPropertyType=&oldDisplayPropertyType=&oldPrimaryDisplayPropertyType=&newHome=&auction=false'"
   ]
  },
  {
   "cell_type": "code",
   "execution_count": 119,
   "metadata": {},
   "outputs": [],
   "source": [
    "def extract(url):\n",
    "    r=requests.get(url)\n",
    "    return BeautifulSoup(r.content,'html.parser')"
   ]
  },
  {
   "cell_type": "code",
   "execution_count": 120,
   "metadata": {},
   "outputs": [],
   "source": [
    "def extract(url):\n",
    "    r=requests.get(url)\n",
    "    return BeautifulSoup(r.content,'html.parser')\n",
    "\n",
    "def spliceindex(url):\n",
    "    url=url.split('&')\n",
    "    url.insert(2,'index=0')\n",
    "    url=\"&\".join(url)\n",
    "    return url\n",
    "\n",
    "def getPropertyLinks(soup):\n",
    "    return [f'https://www.rightmove.co.uk{i.get(\"href\")}' for i in soup.find_all('a', {'class': 'propertyCard-img-link', 'data-test': 'property-img'})]"
   ]
  },
  {
   "cell_type": "code",
   "execution_count": 121,
   "metadata": {},
   "outputs": [],
   "source": [
    "url='https://www.rightmove.co.uk/property-for-sale/find.html?searchType=SALE&locationIdentifier=REGION%5E1403&insId=1&radius=0.0&minPrice=&maxPrice=&minBedrooms=&maxBedrooms=&displayPropertyType=&maxDaysSinceAdded=&_includeSSTC=on&sortByPriceDescending=&primaryDisplayPropertyType=&secondaryDisplayPropertyType=&oldDisplayPropertyType=&oldPrimaryDisplayPropertyType=&newHome=&auction=false'\n",
    "url=spliceindex(url)\n"
   ]
  },
  {
   "cell_type": "code",
   "execution_count": 186,
   "metadata": {},
   "outputs": [],
   "source": [
    "def getPropertyLinks(soup):\n",
    "    return [f'https://www.rightmove.co.uk{i.get(\"href\")}' for i in soup.find_all('a', {'class': 'propertyCard-img-link', 'data-test': 'property-img'})]"
   ]
  },
  {
   "cell_type": "code",
   "execution_count": 187,
   "metadata": {},
   "outputs": [
    {
     "data": {
      "text/plain": [
       "[]"
      ]
     },
     "execution_count": 187,
     "metadata": {},
     "output_type": "execute_result"
    }
   ],
   "source": [
    "getPropertyLinks(extract(url))"
   ]
  },
  {
   "cell_type": "code",
   "execution_count": null,
   "metadata": {},
   "outputs": [],
   "source": []
  },
  {
   "cell_type": "code",
   "execution_count": 277,
   "metadata": {},
   "outputs": [
    {
     "name": "stdout",
     "output_type": "stream",
     "text": [
      "1053\n",
      "index=0 index=24\n",
      "index=24 index=48\n",
      "index=48 index=72\n",
      "index=72 index=96\n",
      "index=96 index=120\n",
      "index=120 index=144\n",
      "index=144 index=168\n",
      "index=168 index=192\n",
      "index=192 index=216\n",
      "index=216 index=240\n",
      "index=240 index=264\n",
      "index=264 index=288\n",
      "index=288 index=312\n",
      "index=312 index=336\n",
      "index=336 index=360\n",
      "index=360 index=384\n",
      "index=384 index=408\n",
      "index=408 index=432\n",
      "index=432 index=456\n",
      "index=456 index=480\n",
      "index=480 index=504\n",
      "index=504 index=528\n",
      "index=528 index=552\n",
      "index=552 index=576\n",
      "index=576 index=600\n",
      "index=600 index=624\n",
      "index=624 index=648\n",
      "index=648 index=672\n",
      "index=672 index=696\n",
      "index=696 index=720\n",
      "index=720 index=744\n",
      "index=744 index=768\n",
      "index=768 index=792\n",
      "index=792 index=816\n",
      "index=816 index=840\n",
      "index=840 index=864\n",
      "index=864 index=888\n",
      "index=888 index=912\n",
      "index=912 index=936\n",
      "index=936 index=960\n",
      "index=960 index=984\n"
     ]
    }
   ],
   "source": [
    "### MASTER CELL ###\n",
    "\n",
    "#### Example url input ####\n",
    "url='https://www.rightmove.co.uk/property-for-sale/find.html?locationIdentifier=REGION%5E1403&index=24&propertyTypes=&includeSSTC=false&mustHave=&dontShow=&furnishTypes=&keywords='\n",
    "\n",
    "url=spliceindex(url)\n",
    "soup=extract(url)\n",
    "resultsCount=int(soup.find('span',{'class':'searchHeader-resultCount'}).text.replace(',',''))\n",
    "\n",
    "print(resultsCount)\n",
    "if resultsCount!=0:\n",
    "    pricedate=getPropertyPrices(soup)\n",
    "\n",
    "if resultsCount>25:\n",
    "    for i in range(24,((resultsCount//25))*24,24):\n",
    "        print(f'index={i-24}',f'index={i}')\n",
    "        url=url.replace(f'index={i-24}',f'index={i}')\n",
    "        pricedata+=getPropertyPrices(extract(url))"
   ]
  },
  {
   "cell_type": "code",
   "execution_count": 286,
   "metadata": {},
   "outputs": [
    {
     "ename": "NameError",
     "evalue": "name 'average' is not defined",
     "output_type": "error",
     "traceback": [
      "\u001b[1;31m---------------------------------------------------------------------------\u001b[0m",
      "\u001b[1;31mNameError\u001b[0m                                 Traceback (most recent call last)",
      "Cell \u001b[1;32mIn[286], line 1\u001b[0m\n\u001b[1;32m----> 1\u001b[0m average(links)\n",
      "\u001b[1;31mNameError\u001b[0m: name 'average' is not defined"
     ]
    }
   ],
   "source": [
    "average(links)"
   ]
  },
  {
   "cell_type": "code",
   "execution_count": 252,
   "metadata": {},
   "outputs": [
    {
     "name": "stdout",
     "output_type": "stream",
     "text": [
      "{'Property type': 'Bungalow', 'Bedrooms': 2, 'Bathrooms': 1, 'Price': 220000}\n",
      "{'Property type': 'Detached', 'Bedrooms': 5, 'Bathrooms': 4, 'Price': 940000}\n",
      "{'Property type': 'Detached', 'Bedrooms': 4, 'Bathrooms': 3, 'Price': 925000}\n",
      "{'Property type': 'Detached', 'Bedrooms': 7, 'Bathrooms': 5, 'Price': 900000}\n",
      "{'Property type': 'Detached', 'Bedrooms': 4, 'Bathrooms': 2, 'Price': 900000}\n",
      "{'Property type': 'Detached', 'Bedrooms': 6, 'Bathrooms': 3, 'Price': 895000}\n",
      "{'Property type': 'Detached', 'Bedrooms': 6, 'Bathrooms': 4, 'Price': 895000}\n",
      "{'Property type': 'Detached', 'Bedrooms': 4, 'Bathrooms': 3, 'Price': 875000}\n",
      "{'Property type': 'Link Detached House', 'Bedrooms': 4, 'Bathrooms': 4, 'Price': 850000}\n",
      "{'Property type': 'Detached', 'Bedrooms': 4, 'Bathrooms': 3, 'Price': 850000}\n"
     ]
    }
   ],
   "source": [
    "### extract data from page\n",
    "\n",
    "url='https://www.rightmove.co.uk/properties/131332265#/?channel=RES_BUY'\n",
    "for url in links[:10]:\n",
    "    try:\n",
    "        soup=extract(url)\n",
    "        \n",
    "        extractPrice=soup.find('div',{'class':'_1gfnqJ3Vtd1z40MlC0MzXu','style':'font-size:24px'}).find('span').text\n",
    "        \n",
    "        price=re.sub('[\\D]','',extractPrice)\n",
    "        \n",
    "        bar=soup.find('div',{'class':'_4hBezflLdgDMdFtURKTWh'}).find_all('div',{'class':'_3OGW_s5TH6aUqi4uHum5Gy'})\n",
    "        bar=[i.text for i in bar]\n",
    "        data={\n",
    "            'Property type':bar[0],\n",
    "            'Bedrooms':int(re.sub('[\\D]','',bar[1])),\n",
    "            'Bathrooms':int(re.sub('[\\D]','',bar[2])),\n",
    "            'Price':int(price)\n",
    "        }\n",
    "        print(data)\n",
    "    except:\n",
    "        print('loo')"
   ]
  },
  {
   "cell_type": "code",
   "execution_count": 193,
   "metadata": {},
   "outputs": [
    {
     "data": {
      "text/plain": [
       "['https://www.rightmove.co.uk/properties/127251323#/?channel=RES_BUY',\n",
       " 'https://www.rightmove.co.uk/properties/126537548#/?channel=RES_BUY',\n",
       " 'https://www.rightmove.co.uk/properties/127077242#/?channel=RES_BUY',\n",
       " 'https://www.rightmove.co.uk/properties/133729577#/?channel=RES_BUY',\n",
       " 'https://www.rightmove.co.uk/properties/133771670#/?channel=RES_BUY']"
      ]
     },
     "execution_count": 193,
     "metadata": {},
     "output_type": "execute_result"
    }
   ],
   "source": [
    "links[45:50]"
   ]
  },
  {
   "cell_type": "code",
   "execution_count": 250,
   "metadata": {},
   "outputs": [
    {
     "data": {
      "text/plain": [
       "['Detached', '×4', '×3', 'Leasehold']"
      ]
     },
     "execution_count": 250,
     "metadata": {},
     "output_type": "execute_result"
    }
   ],
   "source": [
    "[i.text for i in bar]"
   ]
  },
  {
   "cell_type": "code",
   "execution_count": 243,
   "metadata": {},
   "outputs": [],
   "source": [
    "soup=extract(links[0])\n",
    "bar=soup.find('div',{'class':'_4hBezflLdgDMdFtURKTWh'})\n"
   ]
  },
  {
   "cell_type": "code",
   "execution_count": 246,
   "metadata": {},
   "outputs": [
    {
     "data": {
      "text/plain": [
       "[<div class=\"_3OGW_s5TH6aUqi4uHum5Gy\"><dd class=\"_1hV1kqpVceE9m-QrX_hWDN\">Bungalow</dd></div>,\n",
       " <div class=\"_3OGW_s5TH6aUqi4uHum5Gy\"><dd class=\"_1hV1kqpVceE9m-QrX_hWDN\">×2</dd></div>,\n",
       " <div class=\"_3OGW_s5TH6aUqi4uHum5Gy\"><dd class=\"_1hV1kqpVceE9m-QrX_hWDN\">×1</dd></div>,\n",
       " <div class=\"_3OGW_s5TH6aUqi4uHum5Gy\"><dd class=\"_1hV1kqpVceE9m-QrX_hWDN _2SpNNVW0fTYoFvPDmhKSt8\">Freehold</dd></div>]"
      ]
     },
     "execution_count": 246,
     "metadata": {},
     "output_type": "execute_result"
    }
   ],
   "source": [
    "bar.find_all('div',{'class':'_3OGW_s5TH6aUqi4uHum5Gy'})"
   ]
  },
  {
   "cell_type": "code",
   "execution_count": 185,
   "metadata": {},
   "outputs": [
    {
     "data": {
      "text/plain": [
       "'https://www.rightmove.co.uk//properties/134092526#/?channel=RES_BUY'"
      ]
     },
     "execution_count": 185,
     "metadata": {},
     "output_type": "execute_result"
    }
   ],
   "source": [
    "links[0]"
   ]
  },
  {
   "cell_type": "code",
   "execution_count": 253,
   "metadata": {},
   "outputs": [
    {
     "data": {
      "text/plain": [
       "'https://www.rightmove.co.uk/properties/129124439#/?channel=RES_BUY'"
      ]
     },
     "execution_count": 253,
     "metadata": {},
     "output_type": "execute_result"
    }
   ],
   "source": [
    "url"
   ]
  },
  {
   "cell_type": "code",
   "execution_count": 255,
   "metadata": {},
   "outputs": [],
   "source": [
    "soup=extract(url)"
   ]
  },
  {
   "cell_type": "code",
   "execution_count": 276,
   "metadata": {},
   "outputs": [],
   "source": [
    "def getPropertyPrices(soup):\n",
    "    return [int(re.sub('\\D','',i.text)) for i in soup.find_all('div',{'class':'propertyCard-priceValue'})\n",
    "            if (re.sub('\\D','',i.text)).isnumeric()]"
   ]
  },
  {
   "cell_type": "code",
   "execution_count": 271,
   "metadata": {},
   "outputs": [
    {
     "data": {
      "text/plain": [
       "[<div class=\"propertyCard-priceValue\" data-bind=\"text: price.displayPrices()[0] ? price.displayPrices()[0].displayPrice : ''\">£407,995        </div>,\n",
       " <div class=\"propertyCard-priceValue\" data-bind=\"text: price.displayPrices()[0] ? price.displayPrices()[0].displayPrice : ''\">£750,000        </div>,\n",
       " <div class=\"propertyCard-priceValue\" data-bind=\"text: price.displayPrices()[0] ? price.displayPrices()[0].displayPrice : ''\">£734,000        </div>,\n",
       " <div class=\"propertyCard-priceValue\" data-bind=\"text: price.displayPrices()[0] ? price.displayPrices()[0].displayPrice : ''\">£725,000        </div>,\n",
       " <div class=\"propertyCard-priceValue\" data-bind=\"text: price.displayPrices()[0] ? price.displayPrices()[0].displayPrice : ''\">£725,000        </div>,\n",
       " <div class=\"propertyCard-priceValue\" data-bind=\"text: price.displayPrices()[0] ? price.displayPrices()[0].displayPrice : ''\">£725,000        </div>,\n",
       " <div class=\"propertyCard-priceValue\" data-bind=\"text: price.displayPrices()[0] ? price.displayPrices()[0].displayPrice : ''\">£725,000        </div>,\n",
       " <div class=\"propertyCard-priceValue\" data-bind=\"text: price.displayPrices()[0] ? price.displayPrices()[0].displayPrice : ''\">£725,000        </div>,\n",
       " <div class=\"propertyCard-priceValue\" data-bind=\"text: price.displayPrices()[0] ? price.displayPrices()[0].displayPrice : ''\">£718,995        </div>,\n",
       " <div class=\"propertyCard-priceValue\" data-bind=\"text: price.displayPrices()[0] ? price.displayPrices()[0].displayPrice : ''\">£700,000        </div>,\n",
       " <div class=\"propertyCard-priceValue\" data-bind=\"text: price.displayPrices()[0] ? price.displayPrices()[0].displayPrice : ''\">£699,950        </div>,\n",
       " <div class=\"propertyCard-priceValue\" data-bind=\"text: price.displayPrices()[0] ? price.displayPrices()[0].displayPrice : ''\">£699,950        </div>,\n",
       " <div class=\"propertyCard-priceValue\" data-bind=\"text: price.displayPrices()[0] ? price.displayPrices()[0].displayPrice : ''\">£695,000        </div>,\n",
       " <div class=\"propertyCard-priceValue\" data-bind=\"text: price.displayPrices()[0] ? price.displayPrices()[0].displayPrice : ''\">£695,000        </div>,\n",
       " <div class=\"propertyCard-priceValue\" data-bind=\"text: price.displayPrices()[0] ? price.displayPrices()[0].displayPrice : ''\">£695,000        </div>,\n",
       " <div class=\"propertyCard-priceValue\" data-bind=\"text: price.displayPrices()[0] ? price.displayPrices()[0].displayPrice : ''\">£690,000        </div>,\n",
       " <div class=\"propertyCard-priceValue\" data-bind=\"text: price.displayPrices()[0] ? price.displayPrices()[0].displayPrice : ''\">£685,000        </div>,\n",
       " <div class=\"propertyCard-priceValue\" data-bind=\"text: price.displayPrices()[0] ? price.displayPrices()[0].displayPrice : ''\">£685,000        </div>,\n",
       " <div class=\"propertyCard-priceValue\" data-bind=\"text: price.displayPrices()[0] ? price.displayPrices()[0].displayPrice : ''\">£680,000        </div>,\n",
       " <div class=\"propertyCard-priceValue\" data-bind=\"text: price.displayPrices()[0] ? price.displayPrices()[0].displayPrice : ''\">Coming Soon        </div>,\n",
       " <div class=\"propertyCard-priceValue\" data-bind=\"text: price.displayPrices()[0] ? price.displayPrices()[0].displayPrice : ''\">£675,000        </div>,\n",
       " <div class=\"propertyCard-priceValue\" data-bind=\"text: price.displayPrices()[0] ? price.displayPrices()[0].displayPrice : ''\">£675,000        </div>,\n",
       " <div class=\"propertyCard-priceValue\" data-bind=\"text: price.displayPrices()[0] ? price.displayPrices()[0].displayPrice : ''\">£675,000        </div>,\n",
       " <div class=\"propertyCard-priceValue\" data-bind=\"text: price.displayPrices()[0] ? price.displayPrices()[0].displayPrice : ''\">£661,495        </div>,\n",
       " <div class=\"propertyCard-priceValue\" data-bind=\"text: price.displayPrices()[0] ? price.displayPrices()[0].displayPrice : ''\">£650,000        </div>]"
      ]
     },
     "execution_count": 271,
     "metadata": {},
     "output_type": "execute_result"
    }
   ],
   "source": [
    "soup=extract(url)\n",
    "prices=soup.find_all('div',{'class':'propertyCard-priceValue'})\n",
    "for i in prices:\n",
    "    cleaned=re.sub('\\D','',i.text)\n",
    "        "
   ]
  },
  {
   "cell_type": "code",
   "execution_count": 273,
   "metadata": {},
   "outputs": [
    {
     "data": {
      "text/plain": [
       "False"
      ]
     },
     "execution_count": 273,
     "metadata": {},
     "output_type": "execute_result"
    }
   ],
   "source": [
    "'3s4'.isnumeric()"
   ]
  },
  {
   "cell_type": "code",
   "execution_count": null,
   "metadata": {},
   "outputs": [],
   "source": []
  }
 ],
 "metadata": {
  "kernelspec": {
   "display_name": "Python 3",
   "language": "python",
   "name": "python3"
  },
  "language_info": {
   "codemirror_mode": {
    "name": "ipython",
    "version": 3
   },
   "file_extension": ".py",
   "mimetype": "text/x-python",
   "name": "python",
   "nbconvert_exporter": "python",
   "pygments_lexer": "ipython3",
   "version": "3.11.2"
  },
  "orig_nbformat": 4,
  "vscode": {
   "interpreter": {
    "hash": "4c0402199fc19b20982ea5eb34ed1f103e743d67c1b6ebaa7ed3b11842c613e3"
   }
  }
 },
 "nbformat": 4,
 "nbformat_minor": 2
}
